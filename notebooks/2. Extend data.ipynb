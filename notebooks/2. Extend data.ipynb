{
 "cells": [
  {
   "cell_type": "markdown",
   "metadata": {},
   "source": [
    "Generate csv file for affiliations. Information on countries was taken from: https://github.com/lukes/ISO-3166-Countries-with-Regional-Codes/blob/master/all/all.csv . "
   ]
  },
  {
   "cell_type": "code",
   "execution_count": null,
   "metadata": {
    "collapsed": true
   },
   "outputs": [],
   "source": [
    "import pandas as pd\n",
    "import random\n",
    "from lorem.text import TextLorem\n",
    "\n",
    "universities = pd.DataFrame()\n",
    "types = ['university','company']\n",
    "countries = pd.read_csv('countries.csv')\n",
    "country_list = list(countries['name'])\n",
    "lorem = TextLorem(srange=(3,5))\n",
    "for i in range(5000):\n",
    "    name = lorem.sentence()\n",
    "    c = random.randint(0,len(country_list)-1)\n",
    "    aux = pd.DataFrame({':ID':[i],'type:string':[types[0]],'name:string':[name],'country:string':[country_list[c]]})\n",
    "    universities = universities.append(aux)\n",
    "\n",
    "companies = pd.DataFrame()\n",
    "for i in range(5000):\n",
    "    name = lorem.sentence()\n",
    "    c = random.randint(0,len(country_list)-1)\n",
    "    aux = pd.DataFrame({':ID':[i],'type:string':[types[1]],'name:string':[name],'country:string':[country_list[c]]})\n",
    "    companies = companies.append(aux)\n",
    "    \n",
    "universities.to_csv('output2/universities.csv')\n",
    "companies.to_csv('output2/companies.csv')\n",
    "\n",
    "affiliated_with = pd.DataFrame()\n",
    "authors = pd.read_csv('output2/authors.csv')\n",
    "authors_comp = authors[:len(authors)//2]\n",
    "authors_list = list(authors_comp[':ID'])\n",
    "company_list =list(companies[':ID'])\n",
    "for a in authors_list:\n",
    "    n = random.randint(0,len(company_list)-1)\n",
    "    aux = pd.DataFrame({':START_ID':[a],':END_ID':[company_list[n]]})\n",
    "    affiliated_with = affiliated_with.append(aux)\n",
    "\n",
    "affiliated_with[[':START_ID',':END_ID']].to_csv('output2/affiliated_with_company.csv')\n",
    "                      \n",
    "authors_uni = authors[(len(authors)//2)+1:]\n",
    "authors_list = list(authors_uni[':ID'])\n",
    "affiliated_with2 = pd.DataFrame()\n",
    "university_list =list(universities[':ID'])\n",
    "for a in authors_list:\n",
    "    n = random.randint(0,len(university_list)-1)\n",
    "    aux = pd.DataFrame({':START_ID':[a],':END_ID':[university_list[n]]})\n",
    "    affiliated_with2 = affiliated_with2.append(aux)\n",
    "\n",
    "affiliated_with2[[':START_ID',':END_ID']].to_csv('output2/affiliated_with_university.csv')"
   ]
  },
  {
   "cell_type": "markdown",
   "metadata": {},
   "source": [
    "### !!! Extended CSV file for reviews has already been created in script of Part_A.2_1_OuroPrapas"
   ]
  }
 ],
 "metadata": {
  "kernelspec": {
   "display_name": "Python 3",
   "language": "python",
   "name": "python3"
  },
  "language_info": {
   "codemirror_mode": {
    "name": "ipython",
    "version": 3
   },
   "file_extension": ".py",
   "mimetype": "text/x-python",
   "name": "python",
   "nbconvert_exporter": "python",
   "pygments_lexer": "ipython3",
   "version": "3.6.1"
  }
 },
 "nbformat": 4,
 "nbformat_minor": 2
}
